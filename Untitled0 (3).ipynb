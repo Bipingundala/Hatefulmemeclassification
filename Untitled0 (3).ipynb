{
  "nbformat": 4,
  "nbformat_minor": 0,
  "metadata": {
    "colab": {
      "provenance": [],
      "gpuType": "T4"
    },
    "kernelspec": {
      "name": "python3",
      "display_name": "Python 3"
    },
    "language_info": {
      "name": "python"
    },
    "accelerator": "GPU"
  },
  "cells": [
    {
      "cell_type": "code",
      "execution_count": 3,
      "metadata": {
        "colab": {
          "base_uri": "https://localhost:8080/"
        },
        "id": "pUHSt73ReTod",
        "outputId": "1288f53d-a946-46de-8b5c-6daaf7f6fbd0"
      },
      "outputs": [
        {
          "output_type": "stream",
          "name": "stdout",
          "text": [
            "Mounted at /content/drive\n"
          ]
        }
      ],
      "source": [
        "# Mount Google Drive\n",
        "from google.colab import drive\n",
        "drive.mount('/content/drive')"
      ]
    },
    {
      "cell_type": "code",
      "source": [
        "import os\n",
        "import json\n",
        "import pandas as pd\n",
        "import matplotlib.pyplot as plt\n",
        "import seaborn as sns\n",
        "from PIL import Image\n",
        "import torch\n",
        "from torch.utils.data import Dataset, DataLoader\n",
        "import torch.nn as nn\n",
        "import torch.optim as optim\n",
        "from sklearn.metrics import classification_report, confusion_matrix\n",
        "from transformers import CLIPProcessor, CLIPModel\n",
        "from imblearn.over_sampling import RandomOverSampler\n",
        "from tqdm import tqdm"
      ],
      "metadata": {
        "id": "6JtcTERDesXA"
      },
      "execution_count": 4,
      "outputs": []
    },
    {
      "cell_type": "code",
      "source": [
        "data_dir = '/content/drive/MyDrive/dataset/data'\n",
        "img_dir = os.path.join(data_dir, 'img')\n",
        "train_path = os.path.join(data_dir, 'train.jsonl')\n",
        "dev_path = os.path.join(data_dir, 'dev.jsonl')\n",
        "test_path = os.path.join(data_dir, 'test.jsonl')"
      ],
      "metadata": {
        "id": "Zv70W1Dye0jJ"
      },
      "execution_count": 5,
      "outputs": []
    },
    {
      "cell_type": "code",
      "source": [
        "# Device\n",
        "device = torch.device('cuda' if torch.cuda.is_available() else 'cpu')\n",
        "print(\"Using device:\", device)\n"
      ],
      "metadata": {
        "colab": {
          "base_uri": "https://localhost:8080/"
        },
        "id": "ZpugNz3le1TT",
        "outputId": "1db7d809-76e8-460d-a33c-3328c4fd4137"
      },
      "execution_count": 6,
      "outputs": [
        {
          "output_type": "stream",
          "name": "stdout",
          "text": [
            "Using device: cuda\n"
          ]
        }
      ]
    },
    {
      "cell_type": "code",
      "source": [
        "def load_jsonl(jsonl_path):\n",
        "    with open(jsonl_path, 'r') as f:\n",
        "        data = [json.loads(line) for line in f]\n",
        "    return pd.DataFrame(data)\n",
        "\n",
        "train_df = load_jsonl(train_path)\n",
        "dev_df = load_jsonl(dev_path)\n",
        "test_df = load_jsonl(test_path)"
      ],
      "metadata": {
        "id": "t_7aMYCce5Ab"
      },
      "execution_count": 7,
      "outputs": []
    },
    {
      "cell_type": "code",
      "source": [
        "def print_stats(df, name):\n",
        "    total = len(df)\n",
        "    hateful = df['label'].sum()\n",
        "    non_hateful = total - hateful\n",
        "    print(f\"\\n{name} Dataset - Total: {total}, Hateful: {hateful}, Non-Hateful: {non_hateful}\")\n",
        "\n",
        "print_stats(train_df, \"Train\")\n",
        "print_stats(dev_df, \"Dev\")"
      ],
      "metadata": {
        "colab": {
          "base_uri": "https://localhost:8080/"
        },
        "id": "DE0fimpHfAuF",
        "outputId": "c5196a41-ac3a-43c3-e44b-5e9eb0d61c3b"
      },
      "execution_count": 8,
      "outputs": [
        {
          "output_type": "stream",
          "name": "stdout",
          "text": [
            "\n",
            "Train Dataset - Total: 8500, Hateful: 3050, Non-Hateful: 5450\n",
            "\n",
            "Dev Dataset - Total: 500, Hateful: 250, Non-Hateful: 250\n"
          ]
        }
      ]
    },
    {
      "cell_type": "code",
      "source": [
        "# Original Distribution\n",
        "sns.countplot(x='label', data=train_df)\n",
        "plt.title(\"Train Label Distribution\")\n",
        "plt.xticks([0, 1], ['Non-Hateful', 'Hateful'])\n",
        "plt.show()"
      ],
      "metadata": {
        "colab": {
          "base_uri": "https://localhost:8080/",
          "height": 472
        },
        "id": "xWYp0ih4fBX6",
        "outputId": "a5b103ff-c7c7-468c-8de5-ea2cb19bb1b5"
      },
      "execution_count": 9,
      "outputs": [
        {
          "output_type": "display_data",
          "data": {
            "text/plain": [
              "<Figure size 640x480 with 1 Axes>"
            ],
            "image/png": "[encoded data removed]"
          },
          "metadata": {}
        }
      ]
    },
    {
      "cell_type": "code",
      "source": [
        "# Oversampling (Balancing)\n",
        "ros = RandomOverSampler(random_state=42)\n",
        "X = train_df[['text', 'img']]\n",
        "y = train_df['label']\n",
        "X_resampled, y_resampled = ros.fit_resample(X, y)\n",
        "train_df_balanced = pd.DataFrame(X_resampled, columns=['text', 'img'])\n",
        "train_df_balanced['label'] = y_resampled\n"
      ],
      "metadata": {
        "id": "yHhf3VFMjLbe"
      },
      "execution_count": 10,
      "outputs": []
    },
    {
      "cell_type": "code",
      "source": [
        "# Balanced Distribution\n",
        "sns.countplot(x='label', data=train_df_balanced)\n",
        "plt.title(\"Balanced Label Distribution (After Oversampling)\")\n",
        "plt.xticks([0, 1], ['Non-Hateful', 'Hateful'])\n",
        "plt.show()"
      ],
      "metadata": {
        "colab": {
          "base_uri": "https://localhost:8080/",
          "height": 472
        },
        "id": "K7pLj3DAjS9V",
        "outputId": "c30e235d-9fa8-4520-d9a8-fe654e1e792b"
      },
      "execution_count": 11,
      "outputs": [
        {
          "output_type": "display_data",
          "data": {
            "text/plain": [
              "<Figure size 640x480 with 1 Axes>"
            ],
            "image/png": "[encoded data removed]"
          },
          "metadata": {}
        }
      ]
    },
    {
      "cell_type": "code",
      "source": [
        "class HatefulMemesDataset(Dataset):\n",
        "    def __init__(self, df, img_dir, processor):\n",
        "        self.df = df\n",
        "        self.img_dir = img_dir\n",
        "        self.processor = processor\n",
        "\n",
        "    def __getitem__(self, idx):\n",
        "        row = self.df.iloc[idx]\n",
        "        image_path = os.path.join(self.img_dir, os.path.basename(row['img']))  # Ensure correct image path\n",
        "        image = Image.open(image_path).convert(\"RGB\").resize((224, 224))\n",
        "\n",
        "        text = row['text']\n",
        "        label = row['label']\n",
        "\n",
        "        encoding = self.processor(text, padding='max_length', truncation=True, max_length=77, return_tensors='pt')\n",
        "        pixel_values = self.processor(images=image, return_tensors='pt')['pixel_values'].squeeze()\n",
        "\n",
        "        return {\n",
        "            'input_ids': encoding['input_ids'].squeeze(),\n",
        "            'attention_mask': encoding['attention_mask'].squeeze(),\n",
        "            'pixel_values': pixel_values,\n",
        "            'labels': torch.tensor(label, dtype=torch.long)\n",
        "        }\n",
        "\n",
        "    def __len__(self):\n",
        "        return len(self.df)"
      ],
      "metadata": {
        "id": "jVOz9iEyjWk7"
      },
      "execution_count": 12,
      "outputs": []
    },
    {
      "cell_type": "code",
      "source": [],
      "metadata": {
        "id": "Oc7ICf1EjyuT"
      },
      "execution_count": null,
      "outputs": []
    },
    {
      "cell_type": "code",
      "source": [
        "# Load CLIP Model & Processor\n",
        "processor = CLIPProcessor.from_pretrained(\"openai/clip-vit-base-patch32\")\n",
        "clip_model = CLIPModel.from_pretrained(\"openai/clip-vit-base-patch32\")"
      ],
      "metadata": {
        "id": "kqOX3S2DjdZQ"
      },
      "execution_count": 14,
      "outputs": []
    },
    {
      "cell_type": "code",
      "source": [
        "\n",
        "# HateCLIPper Model\n",
        "class HateCLIPper(nn.Module):\n",
        "    def __init__(self, clip_model):\n",
        "        super(HateCLIPper, self).__init__()\n",
        "        self.clip = clip_model\n",
        "        self.classifier = nn.Linear(self.clip.config.projection_dim * 2, 2)\n",
        "\n",
        "    def forward(self, input_ids, pixel_values, attention_mask):\n",
        "        outputs = self.clip(input_ids=input_ids, pixel_values=pixel_values, attention_mask=attention_mask)\n",
        "        combined = torch.cat([outputs.image_embeds, outputs.text_embeds], dim=1)\n",
        "        logits = self.classifier(combined)\n",
        "        return logits\n",
        "\n",
        "model = HateCLIPper(clip_model).to(device)"
      ],
      "metadata": {
        "id": "ePt-2xrgkrbk"
      },
      "execution_count": 16,
      "outputs": []
    },
    {
      "cell_type": "code",
      "source": [
        "# DataLoaders\n",
        "train_dataset = HatefulMemesDataset(train_df_balanced, img_dir, processor)\n",
        "dev_dataset = HatefulMemesDataset(dev_df, img_dir, processor)\n",
        "test_dataset = HatefulMemesDataset(test_df, img_dir, processor)\n",
        "\n",
        "train_loader = DataLoader(train_dataset, batch_size=8, shuffle=True)\n",
        "dev_loader = DataLoader(dev_dataset, batch_size=8)\n",
        "test_loader = DataLoader(test_dataset, batch_size=8)"
      ],
      "metadata": {
        "id": "FjEnN4i5kwYo"
      },
      "execution_count": 24,
      "outputs": []
    },
    {
      "cell_type": "code",
      "source": [
        "criterion = nn.CrossEntropyLoss()\n",
        "optimizer = optim.Adam(model.parameters(), lr=1e-5)\n",
        "epochs = 10"
      ],
      "metadata": {
        "id": "dA8tBAw2k3B7"
      },
      "execution_count": 31,
      "outputs": []
    },
    {
      "cell_type": "code",
      "source": [
        "train_losses, val_losses, train_accuracies, val_accuracies = [], [], [], []\n",
        "print(\"🚀 Starting Training...\\n\")"
      ],
      "metadata": {
        "colab": {
          "base_uri": "https://localhost:8080/"
        },
        "id": "hyx8btSrk3il",
        "outputId": "01da5799-1bc0-451e-8287-b5c319cbe538"
      },
      "execution_count": 32,
      "outputs": [
        {
          "output_type": "stream",
          "name": "stdout",
          "text": [
            "🚀 Starting Training...\n",
            "\n"
          ]
        }
      ]
    },
    {
      "cell_type": "code",
      "source": [
        "for epoch in range(epochs):\n",
        "    model.train()\n",
        "    running_loss, correct, total = 0.0, 0, 0\n",
        "\n",
        "    print(f\"\\n🔁 Epoch {epoch+1}/{epochs}\")\n",
        "    for batch in tqdm(train_loader, desc=\"Training\"):\n",
        "        input_ids = batch['input_ids'].to(device)\n",
        "        pixel_values = batch['pixel_values'].to(device)\n",
        "        attention_mask = batch['attention_mask'].to(device)\n",
        "        labels = batch['labels'].to(device)\n",
        "\n",
        "        optimizer.zero_grad()\n",
        "        outputs = model(input_ids, pixel_values, attention_mask)\n",
        "        loss = criterion(outputs, labels)\n",
        "        loss.backward()\n",
        "        optimizer.step()\n",
        "\n",
        "        running_loss += loss.item()\n",
        "        preds = outputs.argmax(dim=1)\n",
        "        correct += (preds == labels).sum().item()\n",
        "        total += labels.size(0)\n",
        "\n",
        "    train_loss = running_loss / len(train_loader)\n",
        "    train_acc = correct / total\n",
        "    train_losses.append(train_loss)\n",
        "    train_accuracies.append(train_acc)\n",
        "    print(f\"✅ Train Loss: {train_loss:.4f}, Train Acc: {train_acc:.4f}\")\n",
        "\n",
        "    # Validation\n",
        "    model.eval()\n",
        "    val_loss, correct, total = 0.0, 0, 0\n",
        "    with torch.no_grad():\n",
        "        for batch in tqdm(dev_loader, desc=\"Validation\"):\n",
        "            input_ids = batch['input_ids'].to(device)\n",
        "            pixel_values = batch['pixel_values'].to(device)\n",
        "            attention_mask = batch['attention_mask'].to(device)\n",
        "            labels = batch['labels'].to(device)\n",
        "\n",
        "            outputs = model(input_ids, pixel_values, attention_mask)\n",
        "            loss = criterion(outputs, labels)\n",
        "\n",
        "            val_loss += loss.item()\n",
        "            preds = outputs.argmax(dim=1)\n",
        "            correct += (preds == labels).sum().item()\n",
        "            total += labels.size(0)\n",
        "\n",
        "    val_loss_avg = val_loss / len(dev_loader)\n",
        "    val_acc = correct / total\n",
        "    val_losses.append(val_loss_avg)\n",
        "    val_accuracies.append(val_acc)\n",
        "    print(f\"📊 Val Loss: {val_loss_avg:.4f}, Val Acc: {val_acc:.4f}\")\n",
        "\n",
        "# Save Model\n",
        "torch.save(model.state_dict(), '/content/drive/MyDrive/hateclipper_model_finetuned1.pt')\n",
        "print(\"\\n✅ Training Complete! Model saved to Drive.\")"
      ],
      "metadata": {
        "colab": {
          "base_uri": "https://localhost:8080/"
        },
        "id": "A0HA3Y0Lk7NT",
        "outputId": "ea8236cc-603d-40fc-d501-c19d6449d0f5"
      },
      "execution_count": 33,
      "outputs": [
        {
          "output_type": "stream",
          "name": "stdout",
          "text": [
            "\n",
            "🔁 Epoch 1/10\n"
          ]
        },
        {
          "output_type": "stream",
          "name": "stderr",
          "text": [
            "Training: 100%|██████████| 1363/1363 [07:16<00:00,  3.13it/s]\n"
          ]
        },
        {
          "output_type": "stream",
          "name": "stdout",
          "text": [
            "✅ Train Loss: 0.4122, Train Acc: 0.8405\n"
          ]
        },
        {
          "output_type": "stream",
          "name": "stderr",
          "text": [
            "Validation: 100%|██████████| 63/63 [00:14<00:00,  4.22it/s]\n"
          ]
        },
        {
          "output_type": "stream",
          "name": "stdout",
          "text": [
            "📊 Val Loss: 0.8630, Val Acc: 0.5540\n",
            "\n",
            "🔁 Epoch 2/10\n"
          ]
        },
        {
          "output_type": "stream",
          "name": "stderr",
          "text": [
            "Training: 100%|██████████| 1363/1363 [07:17<00:00,  3.11it/s]\n"
          ]
        },
        {
          "output_type": "stream",
          "name": "stdout",
          "text": [
            "✅ Train Loss: 0.3861, Train Acc: 0.8551\n"
          ]
        },
        {
          "output_type": "stream",
          "name": "stderr",
          "text": [
            "Validation: 100%|██████████| 63/63 [00:14<00:00,  4.37it/s]\n"
          ]
        },
        {
          "output_type": "stream",
          "name": "stdout",
          "text": [
            "📊 Val Loss: 0.9020, Val Acc: 0.5400\n",
            "\n",
            "🔁 Epoch 3/10\n"
          ]
        },
        {
          "output_type": "stream",
          "name": "stderr",
          "text": [
            "Training: 100%|██████████| 1363/1363 [07:17<00:00,  3.12it/s]\n"
          ]
        },
        {
          "output_type": "stream",
          "name": "stdout",
          "text": [
            "✅ Train Loss: 0.3674, Train Acc: 0.8607\n"
          ]
        },
        {
          "output_type": "stream",
          "name": "stderr",
          "text": [
            "Validation: 100%|██████████| 63/63 [00:15<00:00,  4.11it/s]\n"
          ]
        },
        {
          "output_type": "stream",
          "name": "stdout",
          "text": [
            "📊 Val Loss: 0.9396, Val Acc: 0.5420\n",
            "\n",
            "🔁 Epoch 4/10\n"
          ]
        },
        {
          "output_type": "stream",
          "name": "stderr",
          "text": [
            "Training: 100%|██████████| 1363/1363 [07:18<00:00,  3.11it/s]\n"
          ]
        },
        {
          "output_type": "stream",
          "name": "stdout",
          "text": [
            "✅ Train Loss: 0.3488, Train Acc: 0.8662\n"
          ]
        },
        {
          "output_type": "stream",
          "name": "stderr",
          "text": [
            "Validation: 100%|██████████| 63/63 [00:14<00:00,  4.34it/s]\n"
          ]
        },
        {
          "output_type": "stream",
          "name": "stdout",
          "text": [
            "📊 Val Loss: 0.9034, Val Acc: 0.5140\n",
            "\n",
            "🔁 Epoch 5/10\n"
          ]
        },
        {
          "output_type": "stream",
          "name": "stderr",
          "text": [
            "Training: 100%|██████████| 1363/1363 [07:18<00:00,  3.11it/s]\n"
          ]
        },
        {
          "output_type": "stream",
          "name": "stdout",
          "text": [
            "✅ Train Loss: 0.3337, Train Acc: 0.8698\n"
          ]
        },
        {
          "output_type": "stream",
          "name": "stderr",
          "text": [
            "Validation: 100%|██████████| 63/63 [00:14<00:00,  4.36it/s]\n"
          ]
        },
        {
          "output_type": "stream",
          "name": "stdout",
          "text": [
            "📊 Val Loss: 0.9225, Val Acc: 0.5200\n",
            "\n",
            "🔁 Epoch 6/10\n"
          ]
        },
        {
          "output_type": "stream",
          "name": "stderr",
          "text": [
            "Training: 100%|██████████| 1363/1363 [07:17<00:00,  3.12it/s]\n"
          ]
        },
        {
          "output_type": "stream",
          "name": "stdout",
          "text": [
            "✅ Train Loss: 0.3247, Train Acc: 0.8712\n"
          ]
        },
        {
          "output_type": "stream",
          "name": "stderr",
          "text": [
            "Validation: 100%|██████████| 63/63 [00:14<00:00,  4.43it/s]\n"
          ]
        },
        {
          "output_type": "stream",
          "name": "stdout",
          "text": [
            "📊 Val Loss: 1.0719, Val Acc: 0.5240\n",
            "\n",
            "🔁 Epoch 7/10\n"
          ]
        },
        {
          "output_type": "stream",
          "name": "stderr",
          "text": [
            "Training: 100%|██████████| 1363/1363 [07:18<00:00,  3.11it/s]\n"
          ]
        },
        {
          "output_type": "stream",
          "name": "stdout",
          "text": [
            "✅ Train Loss: 0.3090, Train Acc: 0.8748\n"
          ]
        },
        {
          "output_type": "stream",
          "name": "stderr",
          "text": [
            "Validation: 100%|██████████| 63/63 [00:14<00:00,  4.37it/s]\n"
          ]
        },
        {
          "output_type": "stream",
          "name": "stdout",
          "text": [
            "📊 Val Loss: 1.0833, Val Acc: 0.5300\n",
            "\n",
            "🔁 Epoch 8/10\n"
          ]
        },
        {
          "output_type": "stream",
          "name": "stderr",
          "text": [
            "Training: 100%|██████████| 1363/1363 [07:17<00:00,  3.12it/s]\n"
          ]
        },
        {
          "output_type": "stream",
          "name": "stdout",
          "text": [
            "✅ Train Loss: 0.2996, Train Acc: 0.8780\n"
          ]
        },
        {
          "output_type": "stream",
          "name": "stderr",
          "text": [
            "Validation: 100%|██████████| 63/63 [00:14<00:00,  4.40it/s]\n"
          ]
        },
        {
          "output_type": "stream",
          "name": "stdout",
          "text": [
            "📊 Val Loss: 1.2098, Val Acc: 0.5400\n",
            "\n",
            "🔁 Epoch 9/10\n"
          ]
        },
        {
          "output_type": "stream",
          "name": "stderr",
          "text": [
            "Training: 100%|██████████| 1363/1363 [07:17<00:00,  3.12it/s]\n"
          ]
        },
        {
          "output_type": "stream",
          "name": "stdout",
          "text": [
            "✅ Train Loss: 0.2929, Train Acc: 0.8772\n"
          ]
        },
        {
          "output_type": "stream",
          "name": "stderr",
          "text": [
            "Validation: 100%|██████████| 63/63 [00:14<00:00,  4.26it/s]\n"
          ]
        },
        {
          "output_type": "stream",
          "name": "stdout",
          "text": [
            "📊 Val Loss: 1.0719, Val Acc: 0.5100\n",
            "\n",
            "🔁 Epoch 10/10\n"
          ]
        },
        {
          "output_type": "stream",
          "name": "stderr",
          "text": [
            "Training: 100%|██████████| 1363/1363 [07:20<00:00,  3.10it/s]\n"
          ]
        },
        {
          "output_type": "stream",
          "name": "stdout",
          "text": [
            "✅ Train Loss: 0.2809, Train Acc: 0.8791\n"
          ]
        },
        {
          "output_type": "stream",
          "name": "stderr",
          "text": [
            "Validation: 100%|██████████| 63/63 [00:14<00:00,  4.32it/s]\n"
          ]
        },
        {
          "output_type": "stream",
          "name": "stdout",
          "text": [
            "📊 Val Loss: 1.2115, Val Acc: 0.5120\n",
            "\n",
            "✅ Training Complete! Model saved to Drive.\n"
          ]
        }
      ]
    }
  ]
}